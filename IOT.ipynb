{
  "nbformat": 4,
  "nbformat_minor": 0,
  "metadata": {
    "colab": {
      "provenance": [],
      "authorship_tag": "ABX9TyMvRB+/yG4EDSJ0XzsmFShd",
      "include_colab_link": true
    },
    "kernelspec": {
      "name": "python3",
      "display_name": "Python 3"
    },
    "language_info": {
      "name": "python"
    }
  },
  "cells": [
    {
      "cell_type": "markdown",
      "metadata": {
        "id": "view-in-github",
        "colab_type": "text"
      },
      "source": [
        "<a href=\"https://colab.research.google.com/github/BabjiJada/BMI-WIZARD/blob/main/IOT.ipynb\" target=\"_parent\"><img src=\"https://colab.research.google.com/assets/colab-badge.svg\" alt=\"Open In Colab\"/></a>"
      ]
    },
    {
      "cell_type": "code",
      "execution_count": 1,
      "metadata": {
        "colab": {
          "base_uri": "https://localhost:8080/"
        },
        "id": "UQ1wEuRwba66",
        "outputId": "1e590a78-0545-4428-9c59-c7d300c8881f"
      },
      "outputs": [
        {
          "output_type": "stream",
          "name": "stdout",
          "text": [
            "b'{\"channel\":{\"id\":2537689,\"name\":\"IOT\",\"latitude\":\"0.0\",\"longitude\":\"0.0\",\"field1\":\"temp\",\"field2\":\"humidity\",\"created_at\":\"2024-05-06T09:15:11Z\",\"updated_at\":\"2024-05-06T09:15:50Z\",\"last_entry_id\":7},\"feeds\":[{\"created_at\":\"2024-06-01T20:04:36Z\",\"entry_id\":6,\"field1\":\"1\"},{\"created_at\":\"2024-06-01T20:08:58Z\",\"entry_id\":7,\"field1\":\"56\"}]}'\n",
            "b'{\"channel\":{\"id\":2537689,\"name\":\"IOT\",\"latitude\":\"0.0\",\"longitude\":\"0.0\",\"field1\":\"temp\",\"field2\":\"humidity\",\"created_at\":\"2024-05-06T09:15:11Z\",\"updated_at\":\"2024-05-06T09:15:50Z\",\"last_entry_id\":7},\"feeds\":[{\"created_at\":\"2024-06-01T20:04:36Z\",\"entry_id\":6,\"field2\":\"76\"},{\"created_at\":\"2024-06-01T20:08:58Z\",\"entry_id\":7,\"field2\":\"70\"}]}'\n"
          ]
        }
      ],
      "source": [
        "import urllib3\n",
        "import json\n",
        "READ_API_KEY='ZEFTCJI5S0I315BF'\n",
        "CHANNEL_ID=2537689\n",
        "http=urllib3.PoolManager()\n",
        "r1=http.request('GET','https://api.thingspeak.com/channels/2537689/fields/1.json?results=2')\n",
        "print(r1.data)\n",
        "r2=http.request('GET','https://api.thingspeak.com/channels/2537689/fields/2.json?results=2')\n",
        "print(r2.data)"
      ]
    },
    {
      "cell_type": "code",
      "source": [
        "import thingspeak\n",
        "import random\n",
        "import time\n",
        "write_key = 'OE2SW934JM352VKJ'\n",
        "channel_id = 2537689\n",
        "channel = thingspeak.Channel(id=channel_id, api_key=write_key)\n",
        "print(\"Sending data to ThingSpeak...\")\n",
        "try:\n",
        "    while True:\n",
        "        try:\n",
        "            field1_value = random.randint(10, 70)\n",
        "            field2_value = random.randint(70, 100)\n",
        "            response = channel.update({'field1': field1_value, 'field2': field2_value})\n",
        "            print(f\"Response: {response}\")\n",
        "            time.sleep(15)\n",
        "        except Exception as e:\n",
        "            print(f\"An error occurred: {e}\")\n",
        "            time.sleep(15)\n",
        "except KeyboardInterrupt:\n",
        "    print(\"\\nProgram interrupted and exiting gracefully.\")\n"
      ],
      "metadata": {
        "colab": {
          "base_uri": "https://localhost:8080/"
        },
        "id": "WTc-3oKGbk0B",
        "outputId": "b9db0a8f-a113-4619-db96-349313850053"
      },
      "execution_count": 4,
      "outputs": [
        {
          "output_type": "stream",
          "name": "stdout",
          "text": [
            "Sending data to ThingSpeak...\n",
            "Response: {\"channel_id\":2537689,\"created_at\":\"2024-06-01T20:12:47Z\",\"entry_id\":8,\"field1\":\"12\",\"field2\":\"94\",\"field3\":null,\"field4\":null,\"field5\":null,\"field6\":null,\"field7\":null,\"field8\":null,\"latitude\":null,\"longitude\":null,\"elevation\":null,\"status\":null}\n",
            "\n",
            "Program interrupted and exiting gracefully.\n"
          ]
        }
      ]
    },
    {
      "cell_type": "code",
      "source": [
        "pip install thingspeak"
      ],
      "metadata": {
        "colab": {
          "base_uri": "https://localhost:8080/"
        },
        "id": "NRi2CIN8bnQo",
        "outputId": "d86e54d7-e916-4745-9b27-e22724350792"
      },
      "execution_count": 3,
      "outputs": [
        {
          "output_type": "stream",
          "name": "stdout",
          "text": [
            "Collecting thingspeak\n",
            "  Downloading thingspeak-1.0.0-py3-none-any.whl (20 kB)\n",
            "Collecting docopt<0.7.0,>=0.6.2 (from thingspeak)\n",
            "  Downloading docopt-0.6.2.tar.gz (25 kB)\n",
            "  Preparing metadata (setup.py) ... \u001b[?25l\u001b[?25hdone\n",
            "Requirement already satisfied: requests<3.0,>=2.21 in /usr/local/lib/python3.10/dist-packages (from thingspeak) (2.31.0)\n",
            "Requirement already satisfied: charset-normalizer<4,>=2 in /usr/local/lib/python3.10/dist-packages (from requests<3.0,>=2.21->thingspeak) (3.3.2)\n",
            "Requirement already satisfied: idna<4,>=2.5 in /usr/local/lib/python3.10/dist-packages (from requests<3.0,>=2.21->thingspeak) (3.7)\n",
            "Requirement already satisfied: urllib3<3,>=1.21.1 in /usr/local/lib/python3.10/dist-packages (from requests<3.0,>=2.21->thingspeak) (2.0.7)\n",
            "Requirement already satisfied: certifi>=2017.4.17 in /usr/local/lib/python3.10/dist-packages (from requests<3.0,>=2.21->thingspeak) (2024.2.2)\n",
            "Building wheels for collected packages: docopt\n",
            "  Building wheel for docopt (setup.py) ... \u001b[?25l\u001b[?25hdone\n",
            "  Created wheel for docopt: filename=docopt-0.6.2-py2.py3-none-any.whl size=13706 sha256=bff5d6f0517e78a47a3bd635770dc5537f3333a6d9cb3613b5d5ae329544a885\n",
            "  Stored in directory: /root/.cache/pip/wheels/fc/ab/d4/5da2067ac95b36618c629a5f93f809425700506f72c9732fac\n",
            "Successfully built docopt\n",
            "Installing collected packages: docopt, thingspeak\n",
            "Successfully installed docopt-0.6.2 thingspeak-1.0.0\n"
          ]
        }
      ]
    }
  ]
}